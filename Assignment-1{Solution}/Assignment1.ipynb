{
 "cells": [
  {
   "cell_type": "code",
   "execution_count": 7,
   "id": "84d8ced9-5df3-4a56-8e88-393ba13e06a0",
   "metadata": {},
   "outputs": [
    {
     "name": "stdin",
     "output_type": "stream",
     "text": [
      "enter the age 12\n"
     ]
    },
    {
     "ename": "Exception",
     "evalue": "you are not eligible for vote",
     "output_type": "error",
     "traceback": [
      "\u001b[31m---------------------------------------------------------------------------\u001b[39m",
      "\u001b[31mException\u001b[39m                                 Traceback (most recent call last)",
      "\u001b[36mCell\u001b[39m\u001b[36m \u001b[39m\u001b[32mIn[7]\u001b[39m\u001b[32m, line 5\u001b[39m\n\u001b[32m      2\u001b[39m age=\u001b[38;5;28mint\u001b[39m(\u001b[38;5;28minput\u001b[39m(\u001b[33m\"\u001b[39m\u001b[33menter the age\u001b[39m\u001b[33m\"\u001b[39m))\n\u001b[32m      4\u001b[39m \u001b[38;5;28;01mif\u001b[39;00m(age<\u001b[32m18\u001b[39m):\n\u001b[32m----> \u001b[39m\u001b[32m5\u001b[39m     \u001b[38;5;28;01mraise\u001b[39;00m \u001b[38;5;167;01mException\u001b[39;00m(\u001b[33m\"\u001b[39m\u001b[33myou are not eligible for vote\u001b[39m\u001b[33m\"\u001b[39m)\n",
      "\u001b[31mException\u001b[39m: you are not eligible for vote"
     ]
    }
   ],
   "source": [
    "# Making a Custom Exception:-\n",
    "age=int(input(\"enter the age\"))\n",
    "\n",
    "if(age<18):\n",
    "    raise Exception(\"you are not eligible for vote\")"
   ]
  },
  {
   "cell_type": "code",
   "execution_count": 3,
   "id": "f3b42939-a9d2-4ef2-aa48-9e7f81ae7a00",
   "metadata": {},
   "outputs": [],
   "source": [
    "#Make a 2-d array and Read and Write it in a CSV Format......\n",
    "\n",
    "l=[['M1', 'M2', 'M3', 'M4'],\n",
    "   ['10', '20', '30', '40'],\n",
    "   ['50', '60', '60', '70'],\n",
    "   ['80', '90', '100', '110']\n",
    "   ]"
   ]
  },
  {
   "cell_type": "code",
   "execution_count": 4,
   "id": "6a9c831e-8440-45fe-8bf5-f51dc64e4292",
   "metadata": {},
   "outputs": [],
   "source": [
    "with open('write.csv','w') as f:\n",
    "    for list in l:\n",
    "        f.write(','.join(map(str,list)))\n",
    "        f.write('\\n')"
   ]
  },
  {
   "cell_type": "code",
   "execution_count": 6,
   "id": "47195cb6-0ea8-4658-b4b4-c748ae3d1cc8",
   "metadata": {},
   "outputs": [
    {
     "name": "stdout",
     "output_type": "stream",
     "text": [
      "M1,M2,M3,M4\n",
      "10,20,30,40\n",
      "50,60,60,70\n",
      "80,90,100,110\n",
      "\n"
     ]
    }
   ],
   "source": [
    "with open('write.csv','r') as f:\n",
    "    f.seek(0)\n",
    "    print(f.read())"
   ]
  }
 ],
 "metadata": {
  "kernelspec": {
   "display_name": "Python 3 (ipykernel)",
   "language": "python",
   "name": "python3"
  },
  "language_info": {
   "codemirror_mode": {
    "name": "ipython",
    "version": 3
   },
   "file_extension": ".py",
   "mimetype": "text/x-python",
   "name": "python",
   "nbconvert_exporter": "python",
   "pygments_lexer": "ipython3",
   "version": "3.12.6"
  }
 },
 "nbformat": 4,
 "nbformat_minor": 5
}
