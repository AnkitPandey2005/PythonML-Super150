{
 "cells": [
  {
   "cell_type": "code",
   "execution_count": null,
   "id": "bd97204a-88c8-45ce-abff-e230e9e083ae",
   "metadata": {},
   "outputs": [],
   "source": [
    "# Objective:\n",
    "# To build a strong foundation in using NumPy for numerical computations,\n",
    "# including creating arrays, performing operations, and leveraging its\n",
    "# powerful functionalities.  {NUMPY QUESTION's}"
   ]
  },
  {
   "cell_type": "code",
   "execution_count": null,
   "id": "da404285-5a58-465b-86d0-94179042363a",
   "metadata": {},
   "outputs": [],
   "source": [
    "                                                         # Task 1: Creating Arrays"
   ]
  },
  {
   "cell_type": "code",
   "execution_count": null,
   "id": "01171021-7fad-4478-a423-0fe5318eed46",
   "metadata": {},
   "outputs": [],
   "source": [
    "# Task 1: Creating Arrays -->Question -1 "
   ]
  },
  {
   "cell_type": "code",
   "execution_count": 22,
   "id": "7307933a-ab9d-406b-a04c-5c0d892dbb07",
   "metadata": {},
   "outputs": [
    {
     "name": "stdout",
     "output_type": "stream",
     "text": [
      "(10,)\n",
      "10\n",
      "<class 'numpy.ndarray'>\n"
     ]
    },
    {
     "data": {
      "text/plain": [
       "array([ 7,  6,  4, 10,  2,  6,  7,  2,  7,  1], dtype=int32)"
      ]
     },
     "execution_count": 22,
     "metadata": {},
     "output_type": "execute_result"
    }
   ],
   "source": [
    "import numpy as np\n",
    "arr = np.random.randint(1, 11, 10)\n",
    "print(arr.shape)\n",
    "print(arr.size)\n",
    "print(type(arr))\n",
    "arr\n"
   ]
  },
  {
   "cell_type": "code",
   "execution_count": null,
   "id": "92c4f9b3-298f-4f86-8370-dcb8cce79df6",
   "metadata": {},
   "outputs": [],
   "source": [
    "# Task 1: Creating Arrays -->Question -2"
   ]
  },
  {
   "cell_type": "code",
   "execution_count": 23,
   "id": "e6234956-3a48-4ce0-bd82-dde2679dc453",
   "metadata": {},
   "outputs": [
    {
     "name": "stdout",
     "output_type": "stream",
     "text": [
      "(3, 3)\n",
      "9\n",
      "<class 'numpy.ndarray'>\n"
     ]
    },
    {
     "data": {
      "text/plain": [
       "array([[7, 6, 3],\n",
       "       [9, 1, 5],\n",
       "       [7, 1, 2]], dtype=int32)"
      ]
     },
     "execution_count": 23,
     "metadata": {},
     "output_type": "execute_result"
    }
   ],
   "source": [
    "import numpy as np\n",
    "matrix = np.random.randint(1, 10, 9).reshape(3, 3)\n",
    "print(matrix.shape)\n",
    "print(matrix.size)\n",
    "print(type(matrix))\n",
    "matrix\n"
   ]
  },
  {
   "cell_type": "code",
   "execution_count": null,
   "id": "4d3e3d9b-6ae3-42c6-bceb-054f9833d711",
   "metadata": {},
   "outputs": [],
   "source": [
    "# Task 1: Creating Arrays -->Question -3"
   ]
  },
  {
   "cell_type": "code",
   "execution_count": 24,
   "id": "c3814a69-0f63-49b8-934a-f4ec44c500ed",
   "metadata": {},
   "outputs": [
    {
     "name": "stdout",
     "output_type": "stream",
     "text": [
      "(3, 5, 3)\n",
      "45\n",
      "<class 'numpy.ndarray'>\n"
     ]
    },
    {
     "data": {
      "text/plain": [
       "array([[[0.75398842, 0.55817699, 0.14516893],\n",
       "        [0.42511411, 0.47350746, 0.7426744 ],\n",
       "        [0.47507712, 0.18250048, 0.10816854],\n",
       "        [0.8486509 , 0.37286407, 0.52475962],\n",
       "        [0.20369459, 0.23706776, 0.86384732]],\n",
       "\n",
       "       [[0.76131211, 0.77289139, 0.82646691],\n",
       "        [0.04878354, 0.53152273, 0.50479042],\n",
       "        [0.6960166 , 0.41049635, 0.75589485],\n",
       "        [0.91361839, 0.36679062, 0.67611662],\n",
       "        [0.87895932, 0.23556166, 0.97497042]],\n",
       "\n",
       "       [[0.48985614, 0.21517026, 0.89850478],\n",
       "        [0.14202736, 0.93895041, 0.96414724],\n",
       "        [0.73555042, 0.97406869, 0.85051456],\n",
       "        [0.73851712, 0.18116298, 0.34675745],\n",
       "        [0.21484894, 0.21728179, 0.94304311]]])"
      ]
     },
     "execution_count": 24,
     "metadata": {},
     "output_type": "execute_result"
    }
   ],
   "source": [
    "import numpy as np\n",
    "tensor = np.random.rand(3, 5, 3)\n",
    "print(tensor.shape)\n",
    "print(tensor.size)\n",
    "print(type(tensor))\n",
    "tensor\n"
   ]
  },
  {
   "cell_type": "code",
   "execution_count": null,
   "id": "108193ef-027f-4ea9-9772-4918a8ddb696",
   "metadata": {},
   "outputs": [],
   "source": [
    "                                              #Task 2: Array Indexing and Slicing"
   ]
  },
  {
   "cell_type": "code",
   "execution_count": 10,
   "id": "b78023e7-db43-4acf-b229-7772091cb351",
   "metadata": {},
   "outputs": [
    {
     "name": "stdout",
     "output_type": "stream",
     "text": [
      "[10 20 30]\n",
      "[10 30 50 70 90]\n",
      "[90 80 70 60 50 40 30 20 10]\n"
     ]
    }
   ],
   "source": [
    "import numpy as np\n",
    "data = [10, 20, 30, 40, 50, 60, 70, 80, 90]\n",
    "arr = np.array(data)\n",
    "print(arr[0:3])    #1\n",
    "print(arr[::2])    #2\n",
    "print(arr[::-1])   #3\n"
   ]
  },
  {
   "cell_type": "code",
   "execution_count": null,
   "id": "1efd1362-b49a-485c-b787-7be8e1017844",
   "metadata": {},
   "outputs": [],
   "source": [
    "                                              #Task 3: Mathematical Operations"
   ]
  },
  {
   "cell_type": "code",
   "execution_count": null,
   "id": "bca84f27-cf07-4541-857f-51c8020def88",
   "metadata": {},
   "outputs": [],
   "source": [
    "#Task 3: Mathematical Operations --->Question -1 and Question-2[i]"
   ]
  },
  {
   "cell_type": "code",
   "execution_count": 31,
   "id": "c54a4f90-b21f-4017-b34f-4816f2b3934b",
   "metadata": {},
   "outputs": [
    {
     "name": "stdout",
     "output_type": "stream",
     "text": [
      "[ 1 11 12  3 13]\n",
      "[ 6  7  2  6 10]\n",
      "Addition : [ 7 18 14  9 23]\n",
      "Subtraction : [-5  4 10 -3  3]\n",
      "Multiplication : [  6  77  24  18 130]\n",
      "Division: [0.16666667 1.57142857 6.         0.5        1.3       ]\n"
     ]
    }
   ],
   "source": [
    "import numpy as np\n",
    "x = np.random.randint(1, 20, 5)\n",
    "y = np.random.randint(1, 20, 5)\n",
    "print(x)\n",
    "print(y)\n",
    "addition = x + y\n",
    "subtraction = x - y\n",
    "multiplication = x * y\n",
    "division = x / y\n",
    "print(\"Addition :\", addition)\n",
    "print(\"Subtraction :\", subtraction)\n",
    "print(\"Multiplication :\", multiplication)\n",
    "print(\"Division:\", division)\n"
   ]
  },
  {
   "cell_type": "code",
   "execution_count": null,
   "id": "cc4c137a-c529-4aa7-9723-856e88a480d2",
   "metadata": {},
   "outputs": [],
   "source": [
    "#Task 3: Mathematical Operations --->Question-2[i]"
   ]
  },
  {
   "cell_type": "code",
   "execution_count": 32,
   "id": "7d76695a-dbc8-48e8-a349-00bd85737f8b",
   "metadata": {},
   "outputs": [
    {
     "name": "stdout",
     "output_type": "stream",
     "text": [
      "[ 2 15  6  1 14]\n",
      "[12  2 11 19 13]\n",
      "321\n"
     ]
    }
   ],
   "source": [
    "x = np.random.randint(1, 20, 5)\n",
    "y = np.random.randint(1, 20, 5)\n",
    "print(x)\n",
    "print(y)\n",
    "dot_product = np.dot(x, y)\n",
    "print(dot_product)"
   ]
  },
  {
   "cell_type": "code",
   "execution_count": null,
   "id": "519c2cd2-4432-40f5-b978-64dff9bd5ac4",
   "metadata": {},
   "outputs": [],
   "source": [
    "#Task 3: Mathematical Operations --->Question-2[iii]"
   ]
  },
  {
   "cell_type": "code",
   "execution_count": 33,
   "id": "60c90db0-c432-4548-b49f-8b892e7bdd83",
   "metadata": {},
   "outputs": [
    {
     "name": "stdout",
     "output_type": "stream",
     "text": [
      "[ 2  5 19  7  2]\n",
      "Mean : 7.0\n",
      "Median : 5.0\n",
      "Standard deviation : 6.29285308902091\n",
      "Varience : 39.6\n"
     ]
    }
   ],
   "source": [
    "arr = np.random.randint(1, 20, 5)\n",
    "brr = np.random.randint(1, 20, 5)\n",
    "print(arr)\n",
    "print(\"Mean :\", np.mean(arr))\n",
    "print(\"Median :\", np.median(arr))\n",
    "print(\"Standard deviation :\", np.std(arr))\n",
    "print(\"Varience :\", np.var(arr))"
   ]
  },
  {
   "cell_type": "code",
   "execution_count": null,
   "id": "24ea1c75-96ea-4290-8ed7-cd97dc716406",
   "metadata": {},
   "outputs": [],
   "source": [
    "#Task 3: Mathematical Operations --->Question-2[iv]"
   ]
  },
  {
   "cell_type": "code",
   "execution_count": 34,
   "id": "1208f5b2-313f-4c7b-a2b8-f4e0455cabe4",
   "metadata": {},
   "outputs": [
    {
     "name": "stdout",
     "output_type": "stream",
     "text": [
      "[11  8  1  7  6]\n",
      "Maximum : 11\n",
      "Minimum : 1\n",
      "Maximum idx : 0\n",
      "Minimum idx : 2\n"
     ]
    }
   ],
   "source": [
    "arr1 = np.random.randint(1, 20, 5)\n",
    "arr2 = np.random.randint(1, 20, 5)\n",
    "print(arr2)\n",
    "print(\"Maximum :\", np.max(arr2))\n",
    "print(\"Minimum :\", np.min(arr2))\n",
    "print(\"Maximum idx :\", np.argmax(arr2))\n",
    "print(\"Minimum idx :\", np.argmin(arr2))"
   ]
  },
  {
   "cell_type": "code",
   "execution_count": null,
   "id": "13b78f1c-d414-4e59-8d40-cbc976edbe62",
   "metadata": {},
   "outputs": [],
   "source": [
    "                                              # Task 4: Reshaping and Transposing"
   ]
  },
  {
   "cell_type": "code",
   "execution_count": 15,
   "id": "4d8d4956-5684-48cf-bd36-9a7dd92ab78d",
   "metadata": {},
   "outputs": [
    {
     "name": "stdout",
     "output_type": "stream",
     "text": [
      "[ 2  5 10  7  3 11  2  8  6  8  3 11]\n",
      "2D Array of Size 4X3\n",
      "[[ 2  5 10]\n",
      " [ 7  3 11]\n",
      " [ 2  8  6]\n",
      " [ 8  3 11]]\n",
      "3D Array of Size 2X2X3  \n",
      "[[[ 2  5 10]\n",
      "  [ 7  3 11]]\n",
      "\n",
      " [[ 2  8  6]\n",
      "  [ 8  3 11]]]\n",
      "Transpose of 2D Array\n",
      "[[ 2  7  2  8]\n",
      " [ 5  3  8  3]\n",
      " [10 11  6 11]]\n",
      "Transpose of 2D Array and its shape\n",
      "(3, 4)\n"
     ]
    }
   ],
   "source": [
    "import numpy as np\n",
    "\n",
    "l1=np.random.randint(1,12,12)                 #1\n",
    "print(l1)   \n",
    "print(\"2D Array of Size 4X3\")                 #2\n",
    "print(l1.reshape(4,3))\n",
    "print(\"3D Array of Size 2X2X3  \")             #3\n",
    "print(l1.reshape(2,2,3))\n",
    "print(\"Transpose of 2D Array\")                #4\n",
    "print(np.transpose(l1.reshape(4,3)))  \n",
    "print(\"Transpose of 2D Array and its shape\")  #5\n",
    "print(np.transpose(l1.reshape(4,3)).shape)\n"
   ]
  },
  {
   "cell_type": "code",
   "execution_count": null,
   "id": "0823bd3c-64f8-4c62-8991-7f990141112e",
   "metadata": {},
   "outputs": [],
   "source": [
    "                                            # Task 5: Boolean Masking and Filtering"
   ]
  },
  {
   "cell_type": "code",
   "execution_count": 16,
   "id": "eae92a67-77f5-4dc6-9afa-578af588c20f",
   "metadata": {},
   "outputs": [
    {
     "name": "stdout",
     "output_type": "stream",
     "text": [
      "[12 39 18 10 49 31 23 25 12 16 25 37 14 37 26]\n",
      "Numbers Greater than 25 :\n",
      "[39 49 31 37 37 26]\n",
      "Replacing all elements less than 30 with 0 :\n",
      "[ 0 39  0  0 49 31  0  0  0  0  0 37  0 37  0]\n",
      "number of nonZero elements divisible by 5\n",
      "0\n",
      "number of  elements divisible by 5\n",
      "10\n"
     ]
    }
   ],
   "source": [
    "import numpy as np\n",
    "\n",
    "l2=np.random.randint(10,50,15) #1\n",
    "print(l2)\n",
    "print(\"Numbers Greater than 25 :\")                      #2[i]\n",
    "print(l2[l2>25])\n",
    "print(\"Replacing all elements less than 30 with 0 :\")   #2[ii]\n",
    "l2[l2<30]=0\n",
    "print(l2)\n",
    "print(\"number of nonZero elements divisible by 5\")\n",
    "print(np.count_nonzero(l2[l2%5==0]))\n",
    "print(\"number of  elements divisible by 5\")            #2[iii]\n",
    "print(np.count_nonzero(l2%5==0))\n"
   ]
  },
  {
   "cell_type": "code",
   "execution_count": null,
   "id": "58fbf188-fee3-4f0d-a468-1abd07e9043a",
   "metadata": {},
   "outputs": [],
   "source": [
    "                                            # Task 6: Working with Built-in Functions"
   ]
  },
  {
   "cell_type": "code",
   "execution_count": null,
   "id": "1e9709f9-99a0-4d88-b750-35abe5b1f484",
   "metadata": {},
   "outputs": [],
   "source": [
    "# Task 6: Working with Built-in Functions -->Question 1"
   ]
  },
  {
   "cell_type": "code",
   "execution_count": 37,
   "id": "a1d2f386-b732-4703-a1e0-667c4105119a",
   "metadata": {},
   "outputs": [
    {
     "name": "stdout",
     "output_type": "stream",
     "text": [
      "Array of 10 equally spaced values between 0 and 1 \n",
      "\n",
      "[0.         0.11111111 0.22222222 0.33333333 0.44444444 0.55555556\n",
      " 0.66666667 0.77777778 0.88888889 1.        ]\n"
     ]
    }
   ],
   "source": [
    "import numpy as np\n",
    "arr = np.linspace(0, 1, 10)\n",
    "print(\"Array of 10 equally spaced values between 0 and 1 \\n\")\n",
    "print(arr)\n"
   ]
  },
  {
   "cell_type": "code",
   "execution_count": 36,
   "id": "8427a9e3-8ed0-41a6-b1ac-f8bdadad0f2c",
   "metadata": {},
   "outputs": [],
   "source": [
    "# Task 6: Working with Built-in Functions -->Question 2"
   ]
  },
  {
   "cell_type": "code",
   "execution_count": 19,
   "id": "6c13763c-d575-44a3-8512-8ec993879601",
   "metadata": {},
   "outputs": [
    {
     "name": "stdout",
     "output_type": "stream",
     "text": [
      "[[1 0 0 0]\n",
      " [0 1 0 0]\n",
      " [0 0 1 0]\n",
      " [0 0 0 1]]\n"
     ]
    }
   ],
   "source": [
    "# Question -->Create an identity matrix of size 4x4.\n",
    "import numpy as np\n",
    "print(np.eye(4,dtype=\"int\"))"
   ]
  },
  {
   "cell_type": "code",
   "execution_count": null,
   "id": "5591247a-b3b4-4a3b-b59f-bf8d45c6f37a",
   "metadata": {},
   "outputs": [],
   "source": [
    "# Task 6: Working with Built-in Functions -->Question 3"
   ]
  },
  {
   "cell_type": "code",
   "execution_count": 38,
   "id": "ae310b34-6411-4a81-9b9c-0e5cc0caac98",
   "metadata": {},
   "outputs": [
    {
     "name": "stdout",
     "output_type": "stream",
     "text": [
      "Original Array :-\n",
      "[49 71 80 31 49 39 39 51 56 14 25 75 15 35 93 80 59 65 21 98]\n",
      "Sorted Array :-\n",
      "[14 15 21 25 31 35 39 39 49 49 51 56 59 65 71 75 80 80 93 98]\n",
      "5 largest elements\n",
      "[98 93 80 80 75]\n"
     ]
    }
   ],
   "source": [
    "# Question-->Generate a 1D array of 20 random integers between 1 and 100, sort it, and find the 5 largest elements.\n",
    "\n",
    "import numpy as np\n",
    "l3=np.random.randint(1,100,20)\n",
    "print(\"Original Array :-\")\n",
    "print(l3)\n",
    "print(\"Sorted Array :-\")\n",
    "print(np.sort(l3))\n",
    "print(\"5 largest elements\")\n",
    "print(np.sort(l3)[-5:][::-1])"
   ]
  },
  {
   "cell_type": "code",
   "execution_count": null,
   "id": "7de6dae1-e06e-4fd1-8ce7-387994640933",
   "metadata": {},
   "outputs": [],
   "source": [
    "                                                     # Task 7: Generic"
   ]
  },
  {
   "cell_type": "code",
   "execution_count": 39,
   "id": "fd94c951-c30d-48f1-a58c-905f0e3e3a1b",
   "metadata": {},
   "outputs": [
    {
     "name": "stdout",
     "output_type": "stream",
     "text": [
      "Computation started at: 1751909606.4175298 \n",
      "\n",
      "Matrix multiplication finished.\n",
      "\n",
      "[[21.74254122 25.44103205 24.32894808 ... 23.73048632 24.33635375\n",
      "  25.44090315]\n",
      " [20.97127132 23.72597113 23.51843954 ... 21.37091226 23.71670418\n",
      "  24.51849653]\n",
      " [23.58696795 25.23709277 24.45243081 ... 25.04703926 28.30502179\n",
      "  26.48922102]\n",
      " ...\n",
      " [22.54686934 24.54055599 23.06247668 ... 21.17237669 23.82617547\n",
      "  24.59468198]\n",
      " [20.89241961 24.75502856 24.38308333 ... 22.08893292 24.0014092\n",
      "  23.18312425]\n",
      " [23.13404791 24.80609927 25.54686826 ... 21.93043963 26.74923871\n",
      "  26.72779287]] \n",
      "\n",
      "Determinant of the product matrix: 7.67965861666286e+50 \n",
      "\n",
      "Computation ended at: 1751909606.4817755 \n",
      "\n",
      "The matrix is invertible.\n",
      "Inverse matrix computed successfully.\n",
      "[[-2.1253738  -0.09738814 -0.86112033 ...  1.82340978 -0.45713319\n",
      "  -0.44354172]\n",
      " [ 1.59312351  1.91383098  1.09202629 ... -2.16277056 -0.03902213\n",
      "   1.45210785]\n",
      " [ 0.61672546  0.73306963  1.20310796 ... -1.22481773  1.09155856\n",
      "   0.4209182 ]\n",
      " ...\n",
      " [ 0.45915648 -0.02886404  0.49181303 ... -0.91864116  0.40898217\n",
      "  -0.0320841 ]\n",
      " [ 0.53188104  0.61577485  0.69633084 ... -0.6394034  -0.20942934\n",
      "   0.78189611]\n",
      " [-0.49429412  0.02524829  0.43653993 ... -0.30333961  0.85858524\n",
      "   0.13532445]] \n",
      "\n",
      "Total computation time: 0.0642 seconds\n"
     ]
    }
   ],
   "source": [
    "import numpy as np\n",
    "import time\n",
    "\n",
    "# Generate two random matrices of size 100x100\n",
    "mat1 = np.random.rand(100, 100)\n",
    "mat2 = np.random.rand(100, 100)\n",
    "\n",
    "# Record the starting time\n",
    "start = time.time()\n",
    "print(f\"Computation started at: {start} \\n\")\n",
    "\n",
    "# Perform matrix multiplication\n",
    "result = np.dot(mat1, mat2)\n",
    "print(\"Matrix multiplication finished.\\n\")\n",
    "print(result, \"\\n\")\n",
    "\n",
    "# Compute the determinant of the resulting matrix\n",
    "det_result = np.linalg.det(result)\n",
    "print(f\"Determinant of the product matrix: {det_result} \\n\")\n",
    "\n",
    "# Attempt to compute the inverse if the determinant is not zero\n",
    "if np.isclose(det_result, 0):\n",
    "    inv_result = None\n",
    "    is_invertible = False\n",
    "else:\n",
    "    inv_result = np.linalg.inv(result)\n",
    "    is_invertible = True\n",
    "\n",
    "# Record the ending time\n",
    "end = time.time()\n",
    "print(f\"Computation ended at: {end} \\n\")\n",
    "\n",
    "duration = end - start\n",
    "\n",
    "# Display final outcomes\n",
    "print(\"The matrix is invertible.\" if is_invertible else \"The matrix is not invertible.\")\n",
    "if is_invertible:\n",
    "    print(\"Inverse matrix computed successfully.\")\n",
    "    print(inv_result, \"\\n\")\n",
    "print(f\"Total computation time: {duration:.4f} seconds\")"
   ]
  },
  {
   "cell_type": "code",
   "execution_count": null,
   "id": "fbc74055-1896-4c5e-b01a-6085ae59bdbd",
   "metadata": {},
   "outputs": [],
   "source": []
  }
 ],
 "metadata": {
  "kernelspec": {
   "display_name": "Python 3 (ipykernel)",
   "language": "python",
   "name": "python3"
  },
  "language_info": {
   "codemirror_mode": {
    "name": "ipython",
    "version": 3
   },
   "file_extension": ".py",
   "mimetype": "text/x-python",
   "name": "python",
   "nbconvert_exporter": "python",
   "pygments_lexer": "ipython3",
   "version": "3.12.6"
  }
 },
 "nbformat": 4,
 "nbformat_minor": 5
}
